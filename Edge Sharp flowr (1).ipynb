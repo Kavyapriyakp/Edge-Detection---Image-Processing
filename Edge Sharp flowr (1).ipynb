{
 "cells": [
  {
   "cell_type": "code",
   "execution_count": 3,
   "metadata": {},
   "outputs": [],
   "source": [
    "%matplotlib inline\n",
    "\n",
    "import numpy as np\n",
    "import matplotlib.pyplot as plt\n",
    "\n",
    "#define the vertical filter\n",
    "vertical_filter = [[-1,-2,-1], [0,0,0], [1,2,1]]\n",
    "\n",
    "#define the horizontal filter\n",
    "horizontal_filter = [[-1,0,1], [-2,0,2], [-1,0,1]]\n",
    "\n",
    "#read in the pinwheel image\n",
    "img = plt.imread('D:/IRDE/Samples/v1/v1b frames/frame30.jpg')\n",
    "\n",
    "#get the dimensions of the image\n",
    "n,m,d = img.shape\n",
    "\n",
    "#initialize the edges image\n",
    "edges_img = img.copy()"
   ]
  },
  {
   "cell_type": "code",
   "execution_count": null,
   "metadata": {},
   "outputs": [],
   "source": []
  }
 ],
 "metadata": {
  "kernelspec": {
   "display_name": "Python 3",
   "language": "python",
   "name": "python3"
  },
  "language_info": {
   "codemirror_mode": {
    "name": "ipython",
    "version": 3
   },
   "file_extension": ".py",
   "mimetype": "text/x-python",
   "name": "python",
   "nbconvert_exporter": "python",
   "pygments_lexer": "ipython3",
   "version": "3.7.6"
  }
 },
 "nbformat": 4,
 "nbformat_minor": 4
}
